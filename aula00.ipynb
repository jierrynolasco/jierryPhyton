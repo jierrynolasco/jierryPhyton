{
  "nbformat": 4,
  "nbformat_minor": 0,
  "metadata": {
    "colab": {
      "provenance": [],
      "authorship_tag": "ABX9TyNMEkvYuoK6/kAqZTQVl89X",
      "include_colab_link": true
    },
    "kernelspec": {
      "name": "python3",
      "display_name": "Python 3"
    },
    "language_info": {
      "name": "python"
    }
  },
  "cells": [
    {
      "cell_type": "markdown",
      "metadata": {
        "id": "view-in-github",
        "colab_type": "text"
      },
      "source": [
        "<a href=\"https://colab.research.google.com/github/jierrynolasco/jierryPhyton/blob/main/aula00.ipynb\" target=\"_parent\"><img src=\"https://colab.research.google.com/assets/colab-badge.svg\" alt=\"Open In Colab\"/></a>"
      ]
    },
    {
      "cell_type": "code",
      "execution_count": 7,
      "metadata": {
        "id": "Ae1JTb9CyPu9",
        "colab": {
          "base_uri": "https://localhost:8080/"
        },
        "outputId": "8d4a9d16-8956-413c-fa07-d19ff995bb89"
      },
      "outputs": [
        {
          "output_type": "stream",
          "name": "stdout",
          "text": [
            "escreva aqui seu codigo\n"
          ]
        }
      ],
      "source": [
        "# escreve aqui um comentario\n",
        "print('escreva aqui seu codigo')\n",
        "\n",
        "\n"
      ]
    },
    {
      "cell_type": "code",
      "source": [
        "x = 2\n",
        "print(type(x))\n",
        "\n"
      ],
      "metadata": {
        "id": "jbkfZtY6F1HN"
      },
      "execution_count": null,
      "outputs": []
    },
    {
      "cell_type": "code",
      "source": [
        "x = 'ola mundo!'\n",
        "print(x)\n",
        "print(type(x))\n",
        "\n"
      ],
      "metadata": {
        "id": "OelCBkRbF3jL"
      },
      "execution_count": null,
      "outputs": []
    },
    {
      "cell_type": "code",
      "source": [
        "x = 2\n",
        "y = 3\n",
        "print(x == y)\n",
        "\n",
        "\n"
      ],
      "metadata": {
        "id": "8yx0w11JF49z"
      },
      "execution_count": null,
      "outputs": []
    },
    {
      "cell_type": "code",
      "source": [
        "x = 2**3\n",
        "print(x)"
      ],
      "metadata": {
        "id": "FEoElFO6F6Dz"
      },
      "execution_count": null,
      "outputs": []
    },
    {
      "cell_type": "code",
      "source": [
        "x = 10//3 \n",
        "print(x)"
      ],
      "metadata": {
        "id": "0-nKpNgkGAfc"
      },
      "execution_count": null,
      "outputs": []
    },
    {
      "cell_type": "code",
      "source": [
        "x = 10%3 \n",
        "print(x)"
      ],
      "metadata": {
        "id": "b43Rg974GCfT"
      },
      "execution_count": null,
      "outputs": []
    },
    {
      "cell_type": "code",
      "source": [
        "aline = 2\n",
        "bruna = 3\n",
        "print(aline >= bruna)"
      ],
      "metadata": {
        "colab": {
          "base_uri": "https://localhost:8080/"
        },
        "id": "1NBMj7pRGD-T",
        "outputId": "becdabef-a6dd-48ac-df29-4b798137de6e"
      },
      "execution_count": 9,
      "outputs": [
        {
          "output_type": "stream",
          "name": "stdout",
          "text": [
            "False\n"
          ]
        }
      ]
    },
    {
      "cell_type": "code",
      "source": [
        "numero = 2\n",
        "print(f'O número {numero} é par.')"
      ],
      "metadata": {
        "colab": {
          "base_uri": "https://localhost:8080/"
        },
        "id": "6zcyUg8RGxAk",
        "outputId": "2a249097-2d1d-4753-bb28-344f600412ca"
      },
      "execution_count": 10,
      "outputs": [
        {
          "output_type": "stream",
          "name": "stdout",
          "text": [
            "O número 2 é par.\n"
          ]
        }
      ]
    },
    {
      "cell_type": "code",
      "source": [
        "nome = input('Digite seu nome: ')\n",
        "idade = input('Digite sua idade')\n",
        "endereco = input('Digite seu endereco')\n",
        "matricula = input('Digite sua matricula')\n",
        "\n",
        "print(f'Seu nome é {nome}.')\n",
        "print(f'Sua idade é {idade}')\n",
        "print(f'Seu endereço é {endereco}')\n",
        "print(f'sua matricula {matricula}')"
      ],
      "metadata": {
        "colab": {
          "base_uri": "https://localhost:8080/"
        },
        "id": "MZsUiHIwGGpb",
        "outputId": "c1c7a8a8-3863-4267-8fca-0be86a542dcd"
      },
      "execution_count": 12,
      "outputs": [
        {
          "output_type": "stream",
          "name": "stdout",
          "text": [
            "Digite seu nome: jierry\n",
            "Digite sua idade22\n",
            "Digite seu endereco ponte city\n",
            "Digite sua matricula2077\n",
            "Seu nome é jierry.\n",
            "Sua idade é 22\n",
            "Seu endereço é  ponte city\n",
            "sua matricula 2077\n"
          ]
        }
      ]
    },
    {
      "cell_type": "code",
      "source": [
        "nome = str(input('Digite seu nome'))\n",
        "idade = int(input('Digite sua idade')) \n",
        "print(f'seu nome é {nome}')\n",
        "print(f'sua idade é {idade}')2"
      ],
      "metadata": {
        "colab": {
          "base_uri": "https://localhost:8080/"
        },
        "id": "bCiHTKLWJtT0",
        "outputId": "d2657b3d-f646-4ba1-bb35-bfce5c5b7a18"
      },
      "execution_count": 16,
      "outputs": [
        {
          "output_type": "stream",
          "name": "stdout",
          "text": [
            "Digite seu nomejierry \n",
            "Digite sua idade22\n",
            "seu nome é jierry \n",
            "sua idade é 22\n"
          ]
        }
      ]
    }
  ]
}