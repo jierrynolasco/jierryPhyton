{
  "nbformat": 4,
  "nbformat_minor": 0,
  "metadata": {
    "colab": {
      "provenance": [],
      "authorship_tag": "ABX9TyMCWKUHRqL0hIqfGNiIr4kG",
      "include_colab_link": true
    },
    "kernelspec": {
      "name": "python3",
      "display_name": "Python 3"
    },
    "language_info": {
      "name": "python"
    }
  },
  "cells": [
    {
      "cell_type": "markdown",
      "metadata": {
        "id": "view-in-github",
        "colab_type": "text"
      },
      "source": [
        "<a href=\"https://colab.research.google.com/github/jierrynolasco/jierryPhyton/blob/main/Untitled0.ipynb\" target=\"_parent\"><img src=\"https://colab.research.google.com/assets/colab-badge.svg\" alt=\"Open In Colab\"/></a>"
      ]
    },
    {
      "cell_type": "code",
      "execution_count": 9,
      "metadata": {
        "id": "Ae1JTb9CyPu9"
      },
      "outputs": [],
      "source": [
        "class Animal():\n",
        "        def __init__(self, nome, peso):\n",
        "          self.__nome = nome\n",
        "          self.__peso = peso\n",
        "        def __str__(self):\n",
        "            return 'Nome: %s \\nPeso: %f' % (self.__nome, self.peso)\n",
        "        def __gt__(self, other):\n",
        "            return self.__peso > other.__peso\n",
        "        def __add__(self, other):\n",
        "          return Animal(self.__nome + ', ' + other.__nome, self.__peso + other.__peso)\n",
        "          \n",
        "        def alimentar(self, comida):\n",
        "              self.peso += comida\n",
        "        \n",
        "        @property\n",
        "        def nome(self):\n",
        "                return self.__nome\n",
        "        @nome.setter\n",
        "        def nome(self, new_name):\n",
        "                  if type(new_name) == type(str()):\n",
        "                          self.__nome = new_name\n",
        "\n",
        "# Polimorfismo - Code 2 desenvolva o restante no desafio...from Animal import Animal\n",
        "\n",
        "class Mamifero(Animal):\n",
        "                    class  Mamifero():\n",
        "\n",
        "                        def __str__(self):\n",
        "                                  return super().str__() + 'Mamifero'\n",
        "                        def __init__(self, pele, mamas, corpo):\n",
        "                                      self.pele = pelos\n",
        "                                      self.mamas = mammalia\n",
        "                                      self.corpo = vertebrado\n",
        "                        def __str__(self):\n",
        "                              return 'pele: %s /n Mamas: %s /n Corpo: %s' % (self.__pele, self.__mamas, self__corpo)\n",
        "                        def __gt__(self, other):\n",
        "                              return self.__pele > other.__pele \n",
        "\n"
      ]
    }
  ]
}